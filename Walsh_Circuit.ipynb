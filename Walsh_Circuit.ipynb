{
 "cells": [
  {
   "cell_type": "markdown",
   "id": "18011cca",
   "metadata": {},
   "source": [
    "Imports"
   ]
  },
  {
   "cell_type": "code",
   "execution_count": 97,
   "id": "a33400df",
   "metadata": {},
   "outputs": [],
   "source": [
    "import numpy as np\n",
    "from scipy.linalg import block_diag\n",
    "from qiskit import QuantumCircuit\n",
    "from qiskit.circuit.library import UnitaryGate\n",
    "import matplotlib.pyplot as plt\n",
    "from qiskit.circuit.library import RZGate"
   ]
  },
  {
   "cell_type": "markdown",
   "id": "869c28f1",
   "metadata": {},
   "source": [
    "Unitary Dilation"
   ]
  },
  {
   "cell_type": "code",
   "execution_count": 98,
   "id": "77216232",
   "metadata": {},
   "outputs": [],
   "source": [
    "#Example non-uni matrix\n",
    "non_unitary = np.array([\n",
    "    [4, 1], \n",
    "    [2, 3]\n",
    "], dtype=complex)"
   ]
  },
  {
   "cell_type": "code",
   "execution_count": 99,
   "id": "3c6527be",
   "metadata": {},
   "outputs": [],
   "source": [
    "def make_unitary_circuit(matrix):\n",
    "   \n",
    "    U, Sig, Vt=np.linalg.svd(matrix)    #Singular value decomposition\n",
    "    if max(Sig)>1:\n",
    "        normalize_factor=max(Sig)\n",
    "        Sig=Sig/normalize_factor\n",
    "    complex_component=np.sqrt((1-Sig**2)/Sig**2)*Sig  #sigma must be between 0 and 1;  sqrt(eigenvalues) of A*A_conjugate transpose\n",
    "    sigma_plus=Sig+1j*complex_component\n",
    "    sigma_minus=Sig-1j*complex_component\n",
    "    u_sigma=block_diag(np.diag(sigma_plus),np.diag(sigma_minus))    #([I+, 0], [0, I-])\n",
    "    return u_sigma, Vt, U"
   ]
  },
  {
   "cell_type": "code",
   "execution_count": 100,
   "id": "0cda5cd5",
   "metadata": {},
   "outputs": [
    {
     "data": {
      "image/png": "[encoded data removed]",
      "text/plain": [
       "<Figure size 454.517x200.667 with 1 Axes>"
      ]
     },
     "execution_count": 100,
     "metadata": {},
     "output_type": "execute_result"
    }
   ],
   "source": [
    "u_sig, v_con_trans, unitary=make_unitary_circuit(non_unitary)\n",
    "u_sig_circuit = UnitaryGate(u_sig, label='U_sigma')\n",
    "v_trans_circuit=UnitaryGate(v_con_trans, label='Vt')\n",
    "unitary_circuit= UnitaryGate(unitary, label='U')\n",
    "unitary_dilation= QuantumCircuit(2)\n",
    "unitary_dilation.append(v_trans_circuit,[0])\n",
    "unitary_dilation.h(1)\n",
    "unitary_dilation.append(u_sig_circuit, [0, 1])\n",
    "unitary_dilation.h(1)\n",
    "unitary_dilation.append(unitary_circuit,[0])\n",
    "unitary_dilation.draw('mpl')"
   ]
  },
  {
   "cell_type": "markdown",
   "id": "525d3f0a",
   "metadata": {},
   "source": [
    "Optimal Walsh Circuit"
   ]
  },
  {
   "cell_type": "code",
   "execution_count": null,
   "id": "03fddbf7",
   "metadata": {},
   "outputs": [],
   "source": [
    "#Defining Matrixes\n",
    "Pauli_Z=np.array([[1, 0], [0, -1]])\n",
    "Identity=np.eye(2)\n",
    "\n",
    "U_diag = np.diag([\n",
    "    1,\n",
    "    np.exp(1j * 0.3),     #Good example, because aj1, aj2, aj3, are all non-zero\n",
    "    np.exp(1j * 0.6),     \n",
    "    np.exp(1j * 1.2)      \n",
    "])\n"
   ]
  },
  {
   "cell_type": "code",
   "execution_count": 102,
   "id": "ddddb839",
   "metadata": {},
   "outputs": [],
   "source": [
    "def Walsh_Operator(n):\n",
    "    operators=[]\n",
    "    for j in range(1, 2**n):\n",
    "        binary_value=bin(j)[2:].zfill(n)    \n",
    "        result=None\n",
    "        for bit in binary_value:\n",
    "            if bit=='1':\n",
    "                matrix=Pauli_Z\n",
    "            else:\n",
    "                matrix=Identity    \n",
    "            if result is None:\n",
    "                result=matrix                         #matrix is identity if bit=0, and pauli_z if bit is 1\n",
    "            else:\n",
    "                result=np.kron(result, matrix)\n",
    "        operators.append(result)\n",
    "    return operators"
   ]
  },
  {
   "cell_type": "code",
   "execution_count": 103,
   "id": "8ade138e",
   "metadata": {},
   "outputs": [],
   "source": [
    "#Part of Coefficients Calculator\n",
    "def fk_vector(matrix):\n",
    "    diagonal=np.diag(matrix)\n",
    "    fk=-1j*np.log(diagonal)\n",
    "    return fk\n",
    "    "
   ]
  },
  {
   "cell_type": "code",
   "execution_count": 104,
   "id": "068135de",
   "metadata": {},
   "outputs": [
    {
     "name": "stdout",
     "output_type": "stream",
     "text": [
      "{1} [ 1. -1.  1. -1.  1. -1.  1. -1.]\n",
      "{2} [ 1.  1. -1. -1.  1.  1. -1. -1.]\n",
      "{3} [ 1. -1. -1.  1.  1. -1. -1.  1.]\n",
      "{4} [ 1.  1.  1.  1. -1. -1. -1. -1.]\n",
      "{5} [ 1. -1.  1. -1. -1.  1. -1.  1.]\n",
      "{6} [ 1.  1. -1. -1. -1. -1.  1.  1.]\n",
      "{7} [ 1 -1 -1  1 -1  1  1 -1]\n"
     ]
    }
   ],
   "source": [
    "#Test Cell\n",
    "for i, operators in enumerate(Walsh_Operator(3)):         \n",
    "    print({i+1}, np.diag(operators))         #Diagonals only"
   ]
  },
  {
   "cell_type": "code",
   "execution_count": 105,
   "id": "1fb6c010",
   "metadata": {},
   "outputs": [],
   "source": [
    "#Part of Coefficients Calculator\n",
    "def Walsh_matrix(q):\n",
    "    signs=np.zeros((2**q, 2**q), dtype=int)\n",
    "    for j in range(2**q):\n",
    "        j_bin=np.array(list(bin(j)[2:].zfill(q)), dtype=int)\n",
    "        for k in range(2**q):\n",
    "            k_bin=np.array(list(bin(k)[2:].zfill(q)), dtype=int)\n",
    "            bit_product=np.dot(j_bin, k_bin)%2\n",
    "            signs[j, k]=(-1)**bit_product\n",
    "    return signs\n",
    "        \n",
    "            "
   ]
  },
  {
   "cell_type": "code",
   "execution_count": 106,
   "id": "17ad488e",
   "metadata": {},
   "outputs": [],
   "source": [
    "def Walsh_coefficients(matrix):\n",
    "    fk= fk_vector(matrix)\n",
    "    n=len(fk)\n",
    "    W=Walsh_matrix(int(np.log2(n)))\n",
    "    aj=(1/n)* W @ fk\n",
    "    return aj\n",
    "    \n",
    "    "
   ]
  },
  {
   "cell_type": "code",
   "execution_count": 107,
   "id": "ea9c411a",
   "metadata": {},
   "outputs": [
    {
     "name": "stdout",
     "output_type": "stream",
     "text": [
      "[1.        +0.j         0.38196601+0.92417637j 1.        +0.j\n",
      " 0.38196601-0.92417637j]\n"
     ]
    }
   ],
   "source": [
    "print(np.diag(u_sig))"
   ]
  },
  {
   "cell_type": "code",
   "execution_count": 109,
   "id": "a9c977f6",
   "metadata": {},
   "outputs": [],
   "source": [
    "def gray_code(n):\n",
    "    return [i ^ (i >> 1) for i in range(2**n)]"
   ]
  },
  {
   "cell_type": "code",
   "execution_count": 110,
   "id": "0d6a8a33",
   "metadata": {},
   "outputs": [
    {
     "data": {
      "text/plain": [
       "[0, 1, 3, 2, 6, 7, 5, 4]"
      ]
     },
     "execution_count": 110,
     "metadata": {},
     "output_type": "execute_result"
    }
   ],
   "source": [
    "gray_code(3)"
   ]
  },
  {
   "cell_type": "code",
   "execution_count": 111,
   "id": "13432f38",
   "metadata": {},
   "outputs": [],
   "source": [
    "def build_walsh_circuit(matrix):\n",
    "    aj=np.real(Walsh_coefficients(matrix))\n",
    "    n=int(np.log2(len(aj)))\n",
    "    qc=QuantumCircuit(n)\n",
    "  \n",
    "    \n",
    "    \n",
    "    "
   ]
  },
  {
   "cell_type": "code",
   "execution_count": 112,
   "id": "5134ad2b",
   "metadata": {},
   "outputs": [],
   "source": [
    "build_walsh_circuit(u_sig)"
   ]
  },
  {
   "cell_type": "code",
   "execution_count": null,
   "id": "c1380034",
   "metadata": {},
   "outputs": [],
   "source": [
    "def build_optimal_walsh_circuit(matrix):\n",
    "    aj = np.real(Walsh_coefficients(matrix))  \n",
    "    n = int(np.log2(len(aj)))\n",
    "    gray_seq = gray_code(n)\n",
    "    qc = QuantumCircuit(n)\n",
    "\n",
    "    gate_positions = []\n",
    "\n",
    "    for g in gray_seq:\n",
    "        if g == 0:\n",
    "            continue  \n",
    "        bin_str = format(g, f'0{n}b')\n",
    "        leftmost_1 = bin_str.find('1')\n",
    "        qubit = n - 1 - leftmost_1\n",
    "        gate_positions.append((g, qubit))\n",
    "\n",
    "    for idx, (g, target) in enumerate(gate_positions):\n",
    "        angle = -2 * aj[g]\n",
    "        if abs(angle) < 1e-10:\n",
    "            continue\n",
    "\n",
    "        \n",
    "        if idx == 0:\n",
    "            qc.append(RZGate(angle), [target])\n",
    "            continue\n",
    "\n",
    "        prev_target = gate_positions[idx - 1][1]\n",
    "\n",
    "       \n",
    "        if prev_target != target:\n",
    "            qc.cx(prev_target, target)\n",
    "\n",
    "        \n",
    "        qc.append(RZGate(angle), [target])\n",
    "\n",
    "        xor = g ^ gate_positions[idx - 1][0]\n",
    "        control_bit = xor.bit_length() - 1\n",
    "        control = n - 1 - control_bit\n",
    "        if control != target:\n",
    "            qc.cx(control, target)\n",
    "\n",
    "    return qc\n"
   ]
  },
  {
   "cell_type": "code",
   "execution_count": null,
   "id": "013bac20",
   "metadata": {},
   "outputs": [
    {
     "name": "stdout",
     "output_type": "stream",
     "text": [
      "[ 0.525+6.93889390e-18j -0.225-3.46944695e-17j -0.375+1.38777878e-17j\n",
      "  0.075+1.38777878e-17j]\n"
     ]
    }
   ],
   "source": [
    "print(Walsh_coefficients(U_diag)) #Corresponding Rz is -2*aj, if aj is 0 the gate is skipped"
   ]
  },
  {
   "cell_type": "code",
   "execution_count": 114,
   "id": "d0593431",
   "metadata": {},
   "outputs": [
    {
     "data": {
      "image/png": "[encoded data removed]",
      "text/plain": [
       "<Figure size 538.128x200.667 with 1 Axes>"
      ]
     },
     "execution_count": 114,
     "metadata": {},
     "output_type": "execute_result"
    }
   ],
   "source": [
    "# Example usage\n",
    "dummy_diag =U_diag\n",
    "\n",
    "\n",
    "qc =build_optimal_walsh_circuit(dummy_diag)\n",
    "qc.draw('mpl')"
   ]
  }
 ],
 "metadata": {
  "kernelspec": {
   "display_name": ".venv",
   "language": "python",
   "name": "python3"
  },
  "language_info": {
   "codemirror_mode": {
    "name": "ipython",
    "version": 3
   },
   "file_extension": ".py",
   "mimetype": "text/x-python",
   "name": "python",
   "nbconvert_exporter": "python",
   "pygments_lexer": "ipython3",
   "version": "3.12.7"
  }
 },
 "nbformat": 4,
 "nbformat_minor": 5
}
